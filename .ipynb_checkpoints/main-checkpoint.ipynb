{
 "cells": [
  {
   "cell_type": "code",
   "execution_count": 11,
   "metadata": {
    "scrolled": true
   },
   "outputs": [
    {
     "ename": "ImportError",
     "evalue": "cannot import name 'conf' from 'scapy' (C:\\Users\\dakshi\\anaconda3\\lib\\site-packages\\scapy\\__init__.py)",
     "output_type": "error",
     "traceback": [
      "\u001b[1;31m---------------------------------------------------------------------------\u001b[0m",
      "\u001b[1;31mImportError\u001b[0m                               Traceback (most recent call last)",
      "\u001b[1;32m~\\AppData\\Local\\Temp\\ipykernel_21828\\1299805177.py\u001b[0m in \u001b[0;36m<module>\u001b[1;34m\u001b[0m\n\u001b[0;32m      1\u001b[0m \u001b[1;31m#!pip install scapy\u001b[0m\u001b[1;33m\u001b[0m\u001b[1;33m\u001b[0m\u001b[0m\n\u001b[0;32m      2\u001b[0m \u001b[1;32mimport\u001b[0m \u001b[0mscapy\u001b[0m\u001b[1;33m\u001b[0m\u001b[1;33m\u001b[0m\u001b[0m\n\u001b[1;32m----> 3\u001b[1;33m \u001b[1;32mfrom\u001b[0m \u001b[0mscapy\u001b[0m \u001b[1;32mimport\u001b[0m \u001b[0mconf\u001b[0m\u001b[1;33m\u001b[0m\u001b[1;33m\u001b[0m\u001b[0m\n\u001b[0m\u001b[0;32m      4\u001b[0m \u001b[1;32mimport\u001b[0m \u001b[0mscapy\u001b[0m\u001b[1;33m.\u001b[0m\u001b[0mall\u001b[0m \u001b[1;32mas\u001b[0m \u001b[0mscapy\u001b[0m\u001b[1;33m\u001b[0m\u001b[1;33m\u001b[0m\u001b[0m\n",
      "\u001b[1;31mImportError\u001b[0m: cannot import name 'conf' from 'scapy' (C:\\Users\\dakshi\\anaconda3\\lib\\site-packages\\scapy\\__init__.py)"
     ]
    }
   ],
   "source": [
    "#!pip install scapy\n",
    "import scapy\n",
    "from scapy import conf\n",
    "import scapy.all as scapy"
   ]
  },
  {
   "cell_type": "code",
   "execution_count": 4,
   "metadata": {},
   "outputs": [],
   "source": [
    "import socket  \n",
    "import struct "
   ]
  },
  {
   "cell_type": "code",
   "execution_count": 5,
   "metadata": {},
   "outputs": [
    {
     "name": "stdout",
     "output_type": "stream",
     "text": [
      "Your Computer Name is:LAPTOP-TNTUCFJ3\n",
      "Your Computer IP Address is:172.17.64.1\n"
     ]
    }
   ],
   "source": [
    "hostname=socket.gethostname()   \n",
    "IPAddr=socket.gethostbyname(hostname)   \n",
    "print(\"Your Computer Name is:\"+hostname)   \n",
    "print(\"Your Computer IP Address is:\"+IPAddr) "
   ]
  },
  {
   "cell_type": "code",
   "execution_count": 6,
   "metadata": {},
   "outputs": [
    {
     "name": "stdout",
     "output_type": "stream",
     "text": [
      "172.17.64.1 is a valid IP address.\n"
     ]
    }
   ],
   "source": [
    "import ipaddress\n",
    "\n",
    "def check_ip_address(ip_address):\n",
    "    try:\n",
    "        ip = ipaddress.ip_address(ip_address)\n",
    "        print(f\"{ip_address} is a valid IP address.\")\n",
    "    except ValueError:\n",
    "        print(f\"{ip_address} is not a valid IP address.\")\n",
    "\n",
    "# Example usage\n",
    "check_ip_address(IPAddr)\n"
   ]
  },
  {
   "cell_type": "code",
   "execution_count": 10,
   "metadata": {},
   "outputs": [
    {
     "ename": "NameError",
     "evalue": "name 'conf' is not defined",
     "output_type": "error",
     "traceback": [
      "\u001b[1;31m---------------------------------------------------------------------------\u001b[0m",
      "\u001b[1;31mNameError\u001b[0m                                 Traceback (most recent call last)",
      "\u001b[1;32m~\\AppData\\Local\\Temp\\ipykernel_21828\\3416233657.py\u001b[0m in \u001b[0;36m<module>\u001b[1;34m\u001b[0m\n\u001b[0;32m     14\u001b[0m     \u001b[1;32mreturn\u001b[0m \u001b[0mresult\u001b[0m\u001b[1;33m\u001b[0m\u001b[1;33m\u001b[0m\u001b[0m\n\u001b[0;32m     15\u001b[0m \u001b[1;33m\u001b[0m\u001b[0m\n\u001b[1;32m---> 16\u001b[1;33m \u001b[0mprint\u001b[0m\u001b[1;33m(\u001b[0m\u001b[0mscan\u001b[0m\u001b[1;33m(\u001b[0m\u001b[0mIPAddr\u001b[0m\u001b[1;33m)\u001b[0m\u001b[1;33m)\u001b[0m\u001b[1;33m\u001b[0m\u001b[1;33m\u001b[0m\u001b[0m\n\u001b[0m",
      "\u001b[1;32m~\\AppData\\Local\\Temp\\ipykernel_21828\\3416233657.py\u001b[0m in \u001b[0;36mscan\u001b[1;34m(ip)\u001b[0m\n\u001b[0;32m      6\u001b[0m     \u001b[0mbroadcast_ether_arp_req_frame\u001b[0m \u001b[1;33m=\u001b[0m \u001b[0mbroadcast_ether_frame\u001b[0m \u001b[1;33m/\u001b[0m \u001b[0marp_req_frame\u001b[0m\u001b[1;33m\u001b[0m\u001b[1;33m\u001b[0m\u001b[0m\n\u001b[0;32m      7\u001b[0m \u001b[1;33m\u001b[0m\u001b[0m\n\u001b[1;32m----> 8\u001b[1;33m     \u001b[0manswered_list\u001b[0m \u001b[1;33m=\u001b[0m \u001b[0mscapy\u001b[0m\u001b[1;33m.\u001b[0m\u001b[0msr\u001b[0m\u001b[1;33m(\u001b[0m\u001b[0mbroadcast_ether_arp_req_frame\u001b[0m\u001b[1;33m,\u001b[0m \u001b[0mtimeout\u001b[0m\u001b[1;33m=\u001b[0m\u001b[1;36m1\u001b[0m\u001b[1;33m,\u001b[0m \u001b[0mverbose\u001b[0m\u001b[1;33m=\u001b[0m\u001b[1;32mFalse\u001b[0m\u001b[1;33m,\u001b[0m \u001b[0miface\u001b[0m\u001b[1;33m=\u001b[0m\u001b[0mconf\u001b[0m\u001b[1;33m.\u001b[0m\u001b[0miface\u001b[0m\u001b[1;33m)\u001b[0m\u001b[1;33m[\u001b[0m\u001b[1;36m0\u001b[0m\u001b[1;33m]\u001b[0m\u001b[1;33m\u001b[0m\u001b[1;33m\u001b[0m\u001b[0m\n\u001b[0m\u001b[0;32m      9\u001b[0m     \u001b[0mresult\u001b[0m \u001b[1;33m=\u001b[0m \u001b[1;33m[\u001b[0m\u001b[1;33m]\u001b[0m\u001b[1;33m\u001b[0m\u001b[1;33m\u001b[0m\u001b[0m\n\u001b[0;32m     10\u001b[0m     \u001b[1;32mfor\u001b[0m \u001b[0mi\u001b[0m \u001b[1;32min\u001b[0m \u001b[0mrange\u001b[0m\u001b[1;33m(\u001b[0m\u001b[1;36m0\u001b[0m\u001b[1;33m,\u001b[0m \u001b[0mlen\u001b[0m\u001b[1;33m(\u001b[0m\u001b[0manswered_list\u001b[0m\u001b[1;33m)\u001b[0m\u001b[1;33m)\u001b[0m\u001b[1;33m:\u001b[0m\u001b[1;33m\u001b[0m\u001b[1;33m\u001b[0m\u001b[0m\n",
      "\u001b[1;31mNameError\u001b[0m: name 'conf' is not defined"
     ]
    }
   ],
   "source": [
    "def scan(ip):\n",
    "    arp_req_frame = scapy.ARP(pdst=ip)\n",
    "\n",
    "    broadcast_ether_frame = scapy.Ether(dst=\"ff:ff:ff:ff:ff:ff\")\n",
    "\n",
    "    broadcast_ether_arp_req_frame = broadcast_ether_frame / arp_req_frame\n",
    "\n",
    "    answered_list = scapy.sr(broadcast_ether_arp_req_frame, timeout=1, verbose=False, iface=conf.iface)[0]\n",
    "    result = []\n",
    "    for i in range(0, len(answered_list)):\n",
    "        client_dict = {\"ip\": answered_list[i][1].psrc, \"mac\": answered_list[i][1].hwsrc}\n",
    "        result.append(client_dict)\n",
    "\n",
    "    return result\n",
    "\n",
    "print(scan(IPAddr))\n"
   ]
  },
  {
   "cell_type": "code",
   "execution_count": 17,
   "metadata": {},
   "outputs": [
    {
     "ename": "TypeError",
     "evalue": "unsupported operand type(s) for -: 'int' and 'IPv4Address'",
     "output_type": "error",
     "traceback": [
      "\u001b[1;31m---------------------------------------------------------------------------\u001b[0m",
      "\u001b[1;31mTypeError\u001b[0m                                 Traceback (most recent call last)",
      "\u001b[1;32mc:\\Users\\dakshi\\Desktop\\BU\\networking\\project\\main.ipynb Cell 4\u001b[0m in \u001b[0;36m<module>\u001b[1;34m\u001b[0m\n\u001b[0;32m     <a href='vscode-notebook-cell:/c%3A/Users/dakshi/Desktop/BU/networking/project/main.ipynb#W6sZmlsZQ%3D%3D?line=9'>10</a>\u001b[0m         \u001b[39mprint\u001b[39m(\u001b[39mf\u001b[39m\u001b[39m\"\u001b[39m\u001b[39m{\u001b[39;00mip_address\u001b[39m}\u001b[39;00m\u001b[39m is not a valid IP address.\u001b[39m\u001b[39m\"\u001b[39m)\n\u001b[0;32m     <a href='vscode-notebook-cell:/c%3A/Users/dakshi/Desktop/BU/networking/project/main.ipynb#W6sZmlsZQ%3D%3D?line=11'>12</a>\u001b[0m \u001b[39m# Example usage\u001b[39;00m\n\u001b[1;32m---> <a href='vscode-notebook-cell:/c%3A/Users/dakshi/Desktop/BU/networking/project/main.ipynb#W6sZmlsZQ%3D%3D?line=12'>13</a>\u001b[0m check_ip_address(\u001b[39m\"\u001b[39;49m\u001b[39m172.17.64.1\u001b[39;49m\u001b[39m\"\u001b[39;49m)\n\u001b[0;32m     <a href='vscode-notebook-cell:/c%3A/Users/dakshi/Desktop/BU/networking/project/main.ipynb#W6sZmlsZQ%3D%3D?line=13'>14</a>\u001b[0m check_ip_address(\u001b[39m\"\u001b[39m\u001b[39m192.168.1.1\u001b[39m\u001b[39m\"\u001b[39m)\n",
      "\u001b[1;32mc:\\Users\\dakshi\\Desktop\\BU\\networking\\project\\main.ipynb Cell 4\u001b[0m in \u001b[0;36mcheck_ip_address\u001b[1;34m(ip_address)\u001b[0m\n\u001b[0;32m      <a href='vscode-notebook-cell:/c%3A/Users/dakshi/Desktop/BU/networking/project/main.ipynb#W6sZmlsZQ%3D%3D?line=3'>4</a>\u001b[0m \u001b[39mtry\u001b[39;00m:\n\u001b[0;32m      <a href='vscode-notebook-cell:/c%3A/Users/dakshi/Desktop/BU/networking/project/main.ipynb#W6sZmlsZQ%3D%3D?line=4'>5</a>\u001b[0m     ip \u001b[39m=\u001b[39m ipaddress\u001b[39m.\u001b[39mip_address(ip_address)\n\u001b[1;32m----> <a href='vscode-notebook-cell:/c%3A/Users/dakshi/Desktop/BU/networking/project/main.ipynb#W6sZmlsZQ%3D%3D?line=5'>6</a>\u001b[0m     network \u001b[39m=\u001b[39m ipaddress\u001b[39m.\u001b[39mip_network(\u001b[39mf\u001b[39m\u001b[39m\"\u001b[39m\u001b[39m{\u001b[39;00mip\u001b[39m}\u001b[39;00m\u001b[39m/\u001b[39m\u001b[39m{\u001b[39;00m\u001b[39m32\u001b[39m\u001b[39m-\u001b[39mipaddress\u001b[39m.\u001b[39mIPv4Address(\u001b[39m'\u001b[39m\u001b[39m255.255.255.255\u001b[39m\u001b[39m'\u001b[39m)\u001b[39m-\u001b[39mip\u001b[39m+\u001b[39m\u001b[39m1\u001b[39m\u001b[39m}\u001b[39;00m\u001b[39m\"\u001b[39m, strict\u001b[39m=\u001b[39m\u001b[39mFalse\u001b[39;00m)\n\u001b[0;32m      <a href='vscode-notebook-cell:/c%3A/Users/dakshi/Desktop/BU/networking/project/main.ipynb#W6sZmlsZQ%3D%3D?line=6'>7</a>\u001b[0m     network_prefix_length \u001b[39m=\u001b[39m network\u001b[39m.\u001b[39mprefixlen\n\u001b[0;32m      <a href='vscode-notebook-cell:/c%3A/Users/dakshi/Desktop/BU/networking/project/main.ipynb#W6sZmlsZQ%3D%3D?line=7'>8</a>\u001b[0m     \u001b[39mprint\u001b[39m(\u001b[39mf\u001b[39m\u001b[39m\"\u001b[39m\u001b[39m{\u001b[39;00mip_address\u001b[39m}\u001b[39;00m\u001b[39m is a valid classless IP address with a network prefix length of \u001b[39m\u001b[39m{\u001b[39;00mnetwork_prefix_length\u001b[39m}\u001b[39;00m\u001b[39m.\u001b[39m\u001b[39m\"\u001b[39m)\n",
      "\u001b[1;31mTypeError\u001b[0m: unsupported operand type(s) for -: 'int' and 'IPv4Address'"
     ]
    }
   ],
   "source": [
    "# import ipaddress\n",
    "\n",
    "# def check_ip_address(ip_address):\n",
    "#     try:\n",
    "#         ip = ipaddress.ip_address(ip_address)\n",
    "#         network = ipaddress.ip_network(f\"{ip}/{32-ipaddress.IPv4Address('255.255.255.255')-ip+1}\", strict=False)\n",
    "#         network_prefix_length = network.prefixlen\n",
    "#         print(f\"{ip_address} is a valid classless IP address with a network prefix length of {network_prefix_length}.\")\n",
    "#     except ValueError:\n",
    "#         print(f\"{ip_address} is not a valid IP address.\")\n",
    "\n",
    "# # Example usage\n",
    "# check_ip_address(\"172.17.64.1\")\n",
    "# check_ip_address(\"192.168.1.1\")\n"
   ]
  },
  {
   "cell_type": "code",
   "execution_count": 3,
   "metadata": {},
   "outputs": [
    {
     "name": "stdout",
     "output_type": "stream",
     "text": [
      "Class B IP Address\n"
     ]
    }
   ],
   "source": [
    "# Check the class of the IP address\n",
    "# first_octet = int(IPAddr.split('.')[0])\n",
    "\n",
    "# if first_octet >= 1 and first_octet <= 126:\n",
    "#     print(\"Class A IP Address\")\n",
    "# elif first_octet >= 128 and first_octet <= 191:\n",
    "#     print(\"Class B IP Address\")\n",
    "# elif first_octet >= 192 and first_octet <= 223:\n",
    "#     print(\"Class C IP Address\")\n",
    "# elif first_octet >= 224 and first_octet <= 239:\n",
    "#     print(\"Class D IP Address\")\n",
    "# else:\n",
    "#     print(\"Unknown IP Address class\")"
   ]
  },
  {
   "cell_type": "code",
   "execution_count": 5,
   "metadata": {},
   "outputs": [
    {
     "name": "stdout",
     "output_type": "stream",
     "text": [
      "Error getting subnet mask\n"
     ]
    }
   ],
   "source": [
    "# # Get the subnet mask\n",
    "# sock = socket.socket(socket.AF_INET, socket.SOCK_DGRAM)\n",
    "# sock_fd = sock.fileno()\n",
    "# SIOCGIFNETMASK = 0x891b\n",
    "\n",
    "# # Change 'eth0' to the name of your network interface\n",
    "# iface = 'eth0'\n",
    "# iface_bytes = bytes(iface[:15], 'utf-8')\n",
    "# ifreq = struct.pack('256s', iface_bytes)\n",
    "\n",
    "# try:\n",
    "#     res = ioctl(sock_fd, SIOCGIFNETMASK, ifreq)\n",
    "#     subnet_mask = socket.inet_ntoa(res[20:24])\n",
    "#     subnet_mask_bits = sum([bin(int(x)).count('1') for x in subnet_mask.split('.')])\n",
    "#     print(\"Subnet mask:\", subnet_mask)\n",
    "#     print(\"Network prefix length:\", subnet_mask_bits)\n",
    "# except:\n",
    "#     print(\"Error getting subnet mask\")"
   ]
  }
 ],
 "metadata": {
  "kernelspec": {
   "display_name": "Python 3 (ipykernel)",
   "language": "python",
   "name": "python3"
  },
  "language_info": {
   "codemirror_mode": {
    "name": "ipython",
    "version": 3
   },
   "file_extension": ".py",
   "mimetype": "text/x-python",
   "name": "python",
   "nbconvert_exporter": "python",
   "pygments_lexer": "ipython3",
   "version": "3.9.13"
  }
 },
 "nbformat": 4,
 "nbformat_minor": 2
}
