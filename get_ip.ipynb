{
 "cells": [
  {
   "cell_type": "code",
   "execution_count": 1,
   "metadata": {},
   "outputs": [],
   "source": [
    "import socket  \n",
    "import struct "
   ]
  },
  {
   "cell_type": "code",
   "execution_count": 5,
   "metadata": {},
   "outputs": [
    {
     "name": "stdout",
     "output_type": "stream",
     "text": [
      "Your Computer Name is:LAPTOP-TNTUCFJ3\n",
      "Your Computer IP Address is:172.17.64.1\n"
     ]
    }
   ],
   "source": [
    "hostname=socket.gethostname()   \n",
    "IPAddr=socket.gethostbyname(hostname)   \n",
    "print(\"Your Computer Name is:\"+hostname)   \n",
    "print(\"Your Computer IP Address is:\"+IPAddr) "
   ]
  },
  {
   "cell_type": "code",
   "execution_count": 4,
   "metadata": {},
   "outputs": [
    {
     "name": "stdout",
     "output_type": "stream",
     "text": [
      "172.17.64.1 is a valid IP address.\n"
     ]
    }
   ],
   "source": [
    "import ipaddress\n",
    "\n",
    "def check_ip_address(ip_address):\n",
    "    try:\n",
    "        ip = ipaddress.ip_address(ip_address)\n",
    "        print(f\"{ip_address} is a valid IP address.\")\n",
    "    except ValueError:\n",
    "        print(f\"{ip_address} is not a valid IP address.\")\n",
    "\n",
    "# Example usage\n",
    "check_ip_address(IPAddr)\n"
   ]
  }
 ],
 "metadata": {
  "kernelspec": {
   "display_name": "Python 3 (ipykernel)",
   "language": "python",
   "name": "python3"
  },
  "language_info": {
   "codemirror_mode": {
    "name": "ipython",
    "version": 3
   },
   "file_extension": ".py",
   "mimetype": "text/x-python",
   "name": "python",
   "nbconvert_exporter": "python",
   "pygments_lexer": "ipython3",
   "version": "3.10.2"
  }
 },
 "nbformat": 4,
 "nbformat_minor": 2
}
